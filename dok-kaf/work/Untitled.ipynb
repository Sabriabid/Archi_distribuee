{
 "cells": [
  {
   "cell_type": "code",
   "execution_count": 9,
   "id": "5b6e205a",
   "metadata": {},
   "outputs": [],
   "source": [
    "import pandas as pd\n",
    "from kafka import KafkaConsumer\n",
    "import json\n",
    "\n",
    "from pyspark.sql import SparkSession\n",
    "from pyspark.sql.types import StructType, StructField,DateType,StringType"
   ]
  },
  {
   "cell_type": "code",
   "execution_count": 10,
   "id": "e4ab2f14",
   "metadata": {},
   "outputs": [],
   "source": [
    "# Spark session & context\n",
    "spark = (SparkSession\n",
    "         .builder\n",
    "         .master('local')\n",
    "         .appName('twitter')\n",
    "         # Add kafka package\n",
    "         .config(\"spark.jars.packages\", \"org.apache.spark:spark-sql-kafka-0-10_2.12:3.1.1\")\n",
    "         .getOrCreate())"
   ]
  },
  {
   "cell_type": "code",
   "execution_count": 11,
   "id": "a408fb98",
   "metadata": {},
   "outputs": [],
   "source": [
    "c = KafkaConsumer('test5', bootstrap_servers=['kafka:9093'], api_version=(2,6,0))\n"
   ]
  },
  {
   "cell_type": "code",
   "execution_count": 16,
   "id": "34fb32e9",
   "metadata": {},
   "outputs": [],
   "source": [
    "cSchema = StructType([StructField(\"text\", StringType())\\\n",
    "                     ,StructField(\"date\", DateType())])\n"
   ]
  },
  {
   "cell_type": "code",
   "execution_count": 14,
   "id": "7961c39c",
   "metadata": {},
   "outputs": [],
   "source": [
    "for msg in c:\n",
    "    df = pd.DataFrame(json.loads(msg.value))    #charger le message dans un Data-Frame df\n",
    "    #df1=df[~df['vitesse'].isna()]               #suprimmer les vitesses null\n",
    "        \n",
    "    dfs = spark.createDataFrame(df,schema=cSchema)    #charger la Data-Frame df dans un Data-Frame SPARK dfs \n",
    "    print(dfs.show())                                  #affichage de la dfs\n",
    "    #print(dfs.agg({'vitesse' : 'mean'}).show())        #calcul et affichage de la moyenne des vitesses\n",
    "    #print(\"le nombre d'avions en vol actuellement est de : \" , dfs.count())"
   ]
  },
  {
   "cell_type": "code",
   "execution_count": 17,
   "id": "a320d718",
   "metadata": {},
   "outputs": [
    {
     "data": {
      "text/plain": [
       "2"
      ]
     },
     "execution_count": 17,
     "metadata": {},
     "output_type": "execute_result"
    }
   ],
   "source": [
    "len(cSchema)"
   ]
  },
  {
   "cell_type": "code",
   "execution_count": null,
   "id": "0bffdac3",
   "metadata": {},
   "outputs": [],
   "source": []
  }
 ],
 "metadata": {
  "kernelspec": {
   "display_name": "Python 3",
   "language": "python",
   "name": "python3"
  },
  "language_info": {
   "codemirror_mode": {
    "name": "ipython",
    "version": 3
   },
   "file_extension": ".py",
   "mimetype": "text/x-python",
   "name": "python",
   "nbconvert_exporter": "python",
   "pygments_lexer": "ipython3",
   "version": "3.8.8"
  }
 },
 "nbformat": 4,
 "nbformat_minor": 5
}
